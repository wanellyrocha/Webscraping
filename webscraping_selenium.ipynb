{
 "cells": [
  {
   "cell_type": "markdown",
   "metadata": {},
   "source": [
    "## Webscraping com Python\n",
    "### Usando biblioteca Selenium"
   ]
  },
  {
   "cell_type": "markdown",
   "metadata": {},
   "source": [
    "#### E-commerce"
   ]
  },
  {
   "cell_type": "code",
   "execution_count": 25,
   "metadata": {},
   "outputs": [
    {
     "name": "stdout",
     "output_type": "stream",
     "text": [
      "Requirement already satisfied: selenium in c:\\users\\wanel\\appdata\\local\\programs\\python\\python39\\lib\\site-packages (4.21.0)\n",
      "Requirement already satisfied: trio~=0.17 in c:\\users\\wanel\\appdata\\local\\programs\\python\\python39\\lib\\site-packages (from selenium) (0.25.1)\n",
      "Requirement already satisfied: urllib3[socks]<3,>=1.26 in c:\\users\\wanel\\appdata\\local\\programs\\python\\python39\\lib\\site-packages (from selenium) (2.2.1)\n",
      "Requirement already satisfied: typing_extensions>=4.9.0 in c:\\users\\wanel\\appdata\\local\\programs\\python\\python39\\lib\\site-packages (from selenium) (4.12.2)\n",
      "Requirement already satisfied: trio-websocket~=0.9 in c:\\users\\wanel\\appdata\\local\\programs\\python\\python39\\lib\\site-packages (from selenium) (0.11.1)\n",
      "Requirement already satisfied: certifi>=2021.10.8 in c:\\users\\wanel\\appdata\\local\\programs\\python\\python39\\lib\\site-packages (from selenium) (2024.6.2)\n",
      "Requirement already satisfied: exceptiongroup in c:\\users\\wanel\\appdata\\local\\programs\\python\\python39\\lib\\site-packages (from trio~=0.17->selenium) (1.2.1)\n",
      "Requirement already satisfied: sortedcontainers in c:\\users\\wanel\\appdata\\local\\programs\\python\\python39\\lib\\site-packages (from trio~=0.17->selenium) (2.4.0)\n",
      "Requirement already satisfied: attrs>=23.2.0 in c:\\users\\wanel\\appdata\\local\\programs\\python\\python39\\lib\\site-packages (from trio~=0.17->selenium) (23.2.0)\n",
      "Requirement already satisfied: sniffio>=1.3.0 in c:\\users\\wanel\\appdata\\local\\programs\\python\\python39\\lib\\site-packages (from trio~=0.17->selenium) (1.3.1)\n",
      "Requirement already satisfied: cffi>=1.14 in c:\\users\\wanel\\appdata\\local\\programs\\python\\python39\\lib\\site-packages (from trio~=0.17->selenium) (1.16.0)\n",
      "Requirement already satisfied: idna in c:\\users\\wanel\\appdata\\local\\programs\\python\\python39\\lib\\site-packages (from trio~=0.17->selenium) (3.7)\n",
      "Requirement already satisfied: outcome in c:\\users\\wanel\\appdata\\local\\programs\\python\\python39\\lib\\site-packages (from trio~=0.17->selenium) (1.3.0.post0)\n",
      "Requirement already satisfied: pycparser in c:\\users\\wanel\\appdata\\local\\programs\\python\\python39\\lib\\site-packages (from cffi>=1.14->trio~=0.17->selenium) (2.22)\n",
      "Requirement already satisfied: wsproto>=0.14 in c:\\users\\wanel\\appdata\\local\\programs\\python\\python39\\lib\\site-packages (from trio-websocket~=0.9->selenium) (1.2.0)\n",
      "Requirement already satisfied: pysocks!=1.5.7,<2.0,>=1.5.6 in c:\\users\\wanel\\appdata\\local\\programs\\python\\python39\\lib\\site-packages (from urllib3[socks]<3,>=1.26->selenium) (1.7.1)\n",
      "Requirement already satisfied: h11<1,>=0.9.0 in c:\\users\\wanel\\appdata\\local\\programs\\python\\python39\\lib\\site-packages (from wsproto>=0.14->trio-websocket~=0.9->selenium) (0.14.0)\n",
      "Note: you may need to restart the kernel to use updated packages.\n"
     ]
    },
    {
     "name": "stderr",
     "output_type": "stream",
     "text": [
      "WARNING: You are using pip version 21.2.3; however, version 24.0 is available.\n",
      "You should consider upgrading via the 'c:\\Users\\wanel\\AppData\\Local\\Programs\\Python\\Python39\\python.exe -m pip install --upgrade pip' command.\n"
     ]
    }
   ],
   "source": [
    "pip install selenium"
   ]
  },
  {
   "cell_type": "code",
   "execution_count": 39,
   "metadata": {},
   "outputs": [
    {
     "name": "stdout",
     "output_type": "stream",
     "text": [
      "Nokia 123\n"
     ]
    }
   ],
   "source": [
    "from selenium import webdriver\n",
    "from selenium.webdriver.common.by import By\n",
    "\n",
    "driver = webdriver.Chrome()\n",
    "driver.get('https://webscraper.io/test-sites/e-commerce/allinone/phones')    # 'get' acessa o site (e 'quit' o encerra)\n",
    "\n",
    "driver.find_element(By.CLASS_NAME, 'title')    # a class 'title' mantem as marcas de celular\n"
   ]
  },
  {
   "cell_type": "markdown",
   "metadata": {},
   "source": [
    "##### Identificando as marcas dos celulares"
   ]
  },
  {
   "cell_type": "code",
   "execution_count": 37,
   "metadata": {},
   "outputs": [
    {
     "name": "stdout",
     "output_type": "stream",
     "text": [
      "Sony Xperia\n"
     ]
    }
   ],
   "source": [
    "print(driver.find_element(By.CLASS_NAME, 'title').text)"
   ]
  },
  {
   "cell_type": "code",
   "execution_count": 40,
   "metadata": {},
   "outputs": [
    {
     "name": "stdout",
     "output_type": "stream",
     "text": [
      "Nokia 123\n",
      "Ubuntu Edge\n",
      "Sony Xperia\n"
     ]
    }
   ],
   "source": [
    "lista_celulares = driver.find_elements(By.CLASS_NAME, 'title')\n",
    "\n",
    "for celular in lista_celulares:\n",
    "    print(celular.text)"
   ]
  },
  {
   "cell_type": "markdown",
   "metadata": {},
   "source": [
    "##### Acessando a área de Computadores"
   ]
  },
  {
   "cell_type": "code",
   "execution_count": 42,
   "metadata": {},
   "outputs": [],
   "source": [
    "driver = webdriver.Chrome()\n",
    "driver.get('https://webscraper.io/test-sites/e-commerce/allinone/phones')\n",
    "\n",
    "computadores = driver.find_element(By.XPATH, '//*[@id=\"side-menu\"]/li[2]/a')\n",
    "\n",
    "computadores.click()    # clica no path que foi indicado"
   ]
  },
  {
   "cell_type": "code",
   "execution_count": 34,
   "metadata": {},
   "outputs": [],
   "source": []
  },
  {
   "cell_type": "markdown",
   "metadata": {},
   "source": [
    "### Citações"
   ]
  },
  {
   "cell_type": "markdown",
   "metadata": {},
   "source": [
    "#### Acessando a página de citações e entrando na área de login"
   ]
  },
  {
   "cell_type": "markdown",
   "metadata": {},
   "source": [
    "##### Entrando com usuário e senha e filtrando pelas tags e copiando a citação da segunda página"
   ]
  },
  {
   "cell_type": "code",
   "execution_count": 50,
   "metadata": {},
   "outputs": [
    {
     "data": {
      "text/plain": [
       "'“I am free of all prejudice. I hate everyone equally. ”\\nby W.C. Fields (about) - (Goodreads page)\\nTags: humor sinister'"
      ]
     },
     "execution_count": 50,
     "metadata": {},
     "output_type": "execute_result"
    }
   ],
   "source": [
    "driver = webdriver.Chrome()\n",
    "driver.get('https://quotes.toscrape.com/')\n",
    "\n",
    "area_login = driver.find_element(By.XPATH, '/html/body/div/div[1]/div[2]/p/a')\n",
    "area_login.click()\n",
    "\n",
    "# entrando com usuário\n",
    "usuario = driver.find_element(By.XPATH, '//*[@id=\"username\"]')\n",
    "usuario.send_keys('admin')\n",
    "\n",
    "# entrando com senha\n",
    "senha = driver.find_element(By.XPATH, '//*[@id=\"password\"]')\n",
    "senha.send_keys('admin')\n",
    "\n",
    "# clicando em login\n",
    "login = driver.find_element(By.XPATH, '/html/body/div/form/input[2]')\n",
    "login.click()\n",
    "\n",
    "\n",
    "\n",
    "# clicando na tag Frienship\n",
    "tag_humor = driver.find_element(By.XPATH, '/html/body/div/div[2]/div[2]/span[4]/a')\n",
    "tag_humor.click()\n",
    "\n",
    "# clicando em Next, para ir para a próxima página\n",
    "next = driver.find_element(By.XPATH, '/html/body/div/div[2]/div[1]/nav/ul/li/a')\n",
    "next.click()\n",
    "\n",
    "# pegando a primeira cicitação da segunda página\n",
    "quote = driver.find_element(By.CLASS_NAME, 'quote').text    # 'quote' é a class usada\n",
    "quote\n"
   ]
  },
  {
   "cell_type": "code",
   "execution_count": null,
   "metadata": {},
   "outputs": [],
   "source": []
  },
  {
   "cell_type": "code",
   "execution_count": null,
   "metadata": {},
   "outputs": [],
   "source": []
  }
 ],
 "metadata": {
  "kernelspec": {
   "display_name": "Python 3",
   "language": "python",
   "name": "python3"
  },
  "language_info": {
   "codemirror_mode": {
    "name": "ipython",
    "version": 3
   },
   "file_extension": ".py",
   "mimetype": "text/x-python",
   "name": "python",
   "nbconvert_exporter": "python",
   "pygments_lexer": "ipython3",
   "version": "3.9.7"
  }
 },
 "nbformat": 4,
 "nbformat_minor": 2
}
